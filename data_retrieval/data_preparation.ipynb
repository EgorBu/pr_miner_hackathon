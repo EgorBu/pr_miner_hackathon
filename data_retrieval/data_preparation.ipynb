{
 "cells": [
  {
   "cell_type": "code",
   "execution_count": 1,
   "metadata": {
    "collapsed": true
   },
   "outputs": [],
   "source": [
    "from operator import attrgetter\n",
    "import os\n",
    "\n",
    "from github import Github\n",
    "\n",
    "from events import Commit, Comment, ReviewComment"
   ]
  },
  {
   "cell_type": "code",
   "execution_count": 2,
   "metadata": {},
   "outputs": [],
   "source": [
    "user = os.environ['GITHUB_USER']\n",
    "password = os.environ['GITHUB_PASSWORD']\n",
    "\n",
    "g = Github(user, password, timeout=5)\n",
    "\n",
    "repo_fullname = 'src-d/infrastructure'\n",
    "repo = g.get_repo(repo_fullname)"
   ]
  },
  {
   "cell_type": "code",
   "execution_count": 4,
   "metadata": {
    "collapsed": true
   },
   "outputs": [],
   "source": [
    "def get_pr_list(repo):\n",
    "    pr_list = []\n",
    "    for state in ['open', 'closed']:\n",
    "        pr_list.extend(repo.get_pulls(state))\n",
    "    return pr_list"
   ]
  },
  {
   "cell_type": "code",
   "execution_count": 5,
   "metadata": {},
   "outputs": [],
   "source": [
    "pulls = get_pr_list(repo)"
   ]
  },
  {
   "cell_type": "code",
   "execution_count": 6,
   "metadata": {},
   "outputs": [],
   "source": [
    "events = []\n",
    "for pr in pulls:\n",
    "    pr_comments = []\n",
    "    comments = pr.get_comments()\n",
    "    for comment in comments:\n",
    "        pr_comments.append((comment.created_at, comment.path, comment.user.name))\n",
    "    if len(pr_comments):\n",
    "        events.append(sorted(pr_comments, key=lambda x: x[0]))\n",
    "    "
   ]
  },
  {
   "cell_type": "code",
   "execution_count": null,
   "metadata": {},
   "outputs": [],
   "source": [
    "events"
   ]
  },
  {
   "cell_type": "code",
   "execution_count": null,
   "metadata": {
    "collapsed": true
   },
   "outputs": [],
   "source": [
    "def prepare_process_mining_input(pulls):\n",
    "    res = []\n",
    "    for pr in pulls:\n",
    "        "
   ]
  }
 ],
 "metadata": {
  "kernelspec": {
   "display_name": "Python 3",
   "language": "python",
   "name": "python3"
  },
  "language_info": {
   "codemirror_mode": {
    "name": "ipython",
    "version": 3
   },
   "file_extension": ".py",
   "mimetype": "text/x-python",
   "name": "python",
   "nbconvert_exporter": "python",
   "pygments_lexer": "ipython3",
   "version": "3.5.2"
  }
 },
 "nbformat": 4,
 "nbformat_minor": 2
}
